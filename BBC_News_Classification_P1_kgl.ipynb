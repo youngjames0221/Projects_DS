{
  "nbformat": 4,
  "nbformat_minor": 0,
  "metadata": {
    "colab": {
      "name": "BBC News Classification P1_kgl.ipynb",
      "provenance": [],
      "collapsed_sections": []
    },
    "kernelspec": {
      "name": "python3",
      "display_name": "Python 3"
    },
    "language_info": {
      "name": "python"
    }
  },
  "cells": [
    {
      "cell_type": "markdown",
      "source": [
        "\n",
        "#Introduction  \n",
        "This project is a study of model performance comparison. It will clean and perform exploratory data analysis on BBC News data, followed by Natural Language Processing. The final corpora will be the target for the application of two machine learning techniques called matrix factorization and kmeans. The final goal of is to compare the two models, each representing unsupervised and supervised machine learning, respectively, and assess the difference."
      ],
      "metadata": {
        "id": "-A_oZ2q2mvHd"
      }
    },
    {
      "cell_type": "markdown",
      "source": [
        "##Exploratory Data Analysis (EDA)"
      ],
      "metadata": {
        "id": "VVTCPS6JoQKf"
      }
    },
    {
      "cell_type": "code",
      "source": [
        "#import necessary modules and packages\n",
        "import numpy as np\n",
        "import matplotlib.pyplot as plt\n",
        "import pandas as pd\n",
        "import itertools\n",
        "import re\n",
        "import nltk\n",
        "import string\n",
        "import seaborn as sns\n",
        "from sklearn.model_selection import train_test_split\n",
        "from textblob import TextBlob\n",
        "from operator import itemgetter\n",
        "from sklearn.feature_extraction.text import CountVectorizer, TfidfVectorizer\n",
        "from sklearn.metrics import accuracy_score, confusion_matrix\n",
        "from sklearn.cluster import KMeans\n",
        "from sklearn.decomposition import NMF\n",
        "\n",
        "try:\n",
        "  import pyvis\n",
        "  from pyvis.network import Network\n",
        "except:\n",
        "  !pip install pyvis\n",
        "  import pyvis\n",
        "  from pyvis import Network\n",
        "nltk.download(\"omw-1.4\")\n",
        "nltk.download(\"punkt\")\n",
        "nltk.download(\"stopwords\")\n",
        "nltk.download(\"wordnet\")"
      ],
      "metadata": {
        "id": "1Rd75V4ytVHP",
        "colab": {
          "base_uri": "https://localhost:8080/"
        },
        "outputId": "6dd91f8c-ebb5-4d23-a624-aca52d4b7ad9"
      },
      "execution_count": null,
      "outputs": [
        {
          "output_type": "stream",
          "name": "stderr",
          "text": [
            "[nltk_data] Downloading package omw-1.4 to /root/nltk_data...\n",
            "[nltk_data]   Package omw-1.4 is already up-to-date!\n",
            "[nltk_data] Downloading package punkt to /root/nltk_data...\n",
            "[nltk_data]   Package punkt is already up-to-date!\n",
            "[nltk_data] Downloading package stopwords to /root/nltk_data...\n",
            "[nltk_data]   Package stopwords is already up-to-date!\n",
            "[nltk_data] Downloading package wordnet to /root/nltk_data...\n",
            "[nltk_data]   Package wordnet is already up-to-date!\n"
          ]
        },
        {
          "output_type": "execute_result",
          "data": {
            "text/plain": [
              "True"
            ]
          },
          "metadata": {},
          "execution_count": 245
        }
      ]
    },
    {
      "cell_type": "code",
      "source": [
        "#Load data\n",
        "path = 'drive/MyDrive/'\n",
        "train = pd.read_csv(path + 'BBC News Train.csv')\n",
        "test = pd.read_csv(path + 'BBC News Test.csv')\n",
        "sol = pd.read_csv(path + 'BBC News Sample Solution.csv')"
      ],
      "metadata": {
        "id": "Kg4-MM2uoYGd"
      },
      "execution_count": null,
      "outputs": []
    },
    {
      "cell_type": "code",
      "source": [
        "#Examine overall data structure and contents\n",
        "train.info()"
      ],
      "metadata": {
        "colab": {
          "base_uri": "https://localhost:8080/"
        },
        "id": "kZGL3Iw2pTub",
        "outputId": "b5f403c1-f3be-421f-cb4b-330d6f33b026"
      },
      "execution_count": null,
      "outputs": [
        {
          "output_type": "stream",
          "name": "stdout",
          "text": [
            "<class 'pandas.core.frame.DataFrame'>\n",
            "RangeIndex: 1490 entries, 0 to 1489\n",
            "Data columns (total 3 columns):\n",
            " #   Column     Non-Null Count  Dtype \n",
            "---  ------     --------------  ----- \n",
            " 0   ArticleId  1490 non-null   int64 \n",
            " 1   Text       1490 non-null   object\n",
            " 2   Category   1490 non-null   object\n",
            "dtypes: int64(1), object(2)\n",
            "memory usage: 35.0+ KB\n"
          ]
        }
      ]
    },
    {
      "cell_type": "code",
      "source": [
        "train.head(10)"
      ],
      "metadata": {
        "colab": {
          "base_uri": "https://localhost:8080/",
          "height": 363
        },
        "id": "rz2lyQ_Xpz6C",
        "outputId": "58ca19d1-ad3a-4d1d-d33d-93da7bd0a7c5"
      },
      "execution_count": null,
      "outputs": [
        {
          "output_type": "execute_result",
          "data": {
            "text/plain": [
              "   ArticleId                                               Text       Category\n",
              "0       1833  worldcom ex-boss launches defence lawyers defe...       business\n",
              "1        154  german business confidence slides german busin...       business\n",
              "2       1101  bbc poll indicates economic gloom citizens in ...       business\n",
              "3       1976  lifestyle  governs mobile choice  faster  bett...           tech\n",
              "4        917  enron bosses in $168m payout eighteen former e...       business\n",
              "5       1582  howard  truanted to play snooker  conservative...       politics\n",
              "6        651  wales silent on grand slam talk rhys williams ...          sport\n",
              "7       1797  french honour for director parker british film...  entertainment\n",
              "8       2034  car giant hit by mercedes slump a slump in pro...       business\n",
              "9       1866  fockers fuel festive film chart comedy meet th...  entertainment"
            ],
            "text/html": [
              "\n",
              "  <div id=\"df-bbbc60bf-03ec-4a0b-946f-0bd16a82253f\">\n",
              "    <div class=\"colab-df-container\">\n",
              "      <div>\n",
              "<style scoped>\n",
              "    .dataframe tbody tr th:only-of-type {\n",
              "        vertical-align: middle;\n",
              "    }\n",
              "\n",
              "    .dataframe tbody tr th {\n",
              "        vertical-align: top;\n",
              "    }\n",
              "\n",
              "    .dataframe thead th {\n",
              "        text-align: right;\n",
              "    }\n",
              "</style>\n",
              "<table border=\"1\" class=\"dataframe\">\n",
              "  <thead>\n",
              "    <tr style=\"text-align: right;\">\n",
              "      <th></th>\n",
              "      <th>ArticleId</th>\n",
              "      <th>Text</th>\n",
              "      <th>Category</th>\n",
              "    </tr>\n",
              "  </thead>\n",
              "  <tbody>\n",
              "    <tr>\n",
              "      <th>0</th>\n",
              "      <td>1833</td>\n",
              "      <td>worldcom ex-boss launches defence lawyers defe...</td>\n",
              "      <td>business</td>\n",
              "    </tr>\n",
              "    <tr>\n",
              "      <th>1</th>\n",
              "      <td>154</td>\n",
              "      <td>german business confidence slides german busin...</td>\n",
              "      <td>business</td>\n",
              "    </tr>\n",
              "    <tr>\n",
              "      <th>2</th>\n",
              "      <td>1101</td>\n",
              "      <td>bbc poll indicates economic gloom citizens in ...</td>\n",
              "      <td>business</td>\n",
              "    </tr>\n",
              "    <tr>\n",
              "      <th>3</th>\n",
              "      <td>1976</td>\n",
              "      <td>lifestyle  governs mobile choice  faster  bett...</td>\n",
              "      <td>tech</td>\n",
              "    </tr>\n",
              "    <tr>\n",
              "      <th>4</th>\n",
              "      <td>917</td>\n",
              "      <td>enron bosses in $168m payout eighteen former e...</td>\n",
              "      <td>business</td>\n",
              "    </tr>\n",
              "    <tr>\n",
              "      <th>5</th>\n",
              "      <td>1582</td>\n",
              "      <td>howard  truanted to play snooker  conservative...</td>\n",
              "      <td>politics</td>\n",
              "    </tr>\n",
              "    <tr>\n",
              "      <th>6</th>\n",
              "      <td>651</td>\n",
              "      <td>wales silent on grand slam talk rhys williams ...</td>\n",
              "      <td>sport</td>\n",
              "    </tr>\n",
              "    <tr>\n",
              "      <th>7</th>\n",
              "      <td>1797</td>\n",
              "      <td>french honour for director parker british film...</td>\n",
              "      <td>entertainment</td>\n",
              "    </tr>\n",
              "    <tr>\n",
              "      <th>8</th>\n",
              "      <td>2034</td>\n",
              "      <td>car giant hit by mercedes slump a slump in pro...</td>\n",
              "      <td>business</td>\n",
              "    </tr>\n",
              "    <tr>\n",
              "      <th>9</th>\n",
              "      <td>1866</td>\n",
              "      <td>fockers fuel festive film chart comedy meet th...</td>\n",
              "      <td>entertainment</td>\n",
              "    </tr>\n",
              "  </tbody>\n",
              "</table>\n",
              "</div>\n",
              "      <button class=\"colab-df-convert\" onclick=\"convertToInteractive('df-bbbc60bf-03ec-4a0b-946f-0bd16a82253f')\"\n",
              "              title=\"Convert this dataframe to an interactive table.\"\n",
              "              style=\"display:none;\">\n",
              "        \n",
              "  <svg xmlns=\"http://www.w3.org/2000/svg\" height=\"24px\"viewBox=\"0 0 24 24\"\n",
              "       width=\"24px\">\n",
              "    <path d=\"M0 0h24v24H0V0z\" fill=\"none\"/>\n",
              "    <path d=\"M18.56 5.44l.94 2.06.94-2.06 2.06-.94-2.06-.94-.94-2.06-.94 2.06-2.06.94zm-11 1L8.5 8.5l.94-2.06 2.06-.94-2.06-.94L8.5 2.5l-.94 2.06-2.06.94zm10 10l.94 2.06.94-2.06 2.06-.94-2.06-.94-.94-2.06-.94 2.06-2.06.94z\"/><path d=\"M17.41 7.96l-1.37-1.37c-.4-.4-.92-.59-1.43-.59-.52 0-1.04.2-1.43.59L10.3 9.45l-7.72 7.72c-.78.78-.78 2.05 0 2.83L4 21.41c.39.39.9.59 1.41.59.51 0 1.02-.2 1.41-.59l7.78-7.78 2.81-2.81c.8-.78.8-2.07 0-2.86zM5.41 20L4 18.59l7.72-7.72 1.47 1.35L5.41 20z\"/>\n",
              "  </svg>\n",
              "      </button>\n",
              "      \n",
              "  <style>\n",
              "    .colab-df-container {\n",
              "      display:flex;\n",
              "      flex-wrap:wrap;\n",
              "      gap: 12px;\n",
              "    }\n",
              "\n",
              "    .colab-df-convert {\n",
              "      background-color: #E8F0FE;\n",
              "      border: none;\n",
              "      border-radius: 50%;\n",
              "      cursor: pointer;\n",
              "      display: none;\n",
              "      fill: #1967D2;\n",
              "      height: 32px;\n",
              "      padding: 0 0 0 0;\n",
              "      width: 32px;\n",
              "    }\n",
              "\n",
              "    .colab-df-convert:hover {\n",
              "      background-color: #E2EBFA;\n",
              "      box-shadow: 0px 1px 2px rgba(60, 64, 67, 0.3), 0px 1px 3px 1px rgba(60, 64, 67, 0.15);\n",
              "      fill: #174EA6;\n",
              "    }\n",
              "\n",
              "    [theme=dark] .colab-df-convert {\n",
              "      background-color: #3B4455;\n",
              "      fill: #D2E3FC;\n",
              "    }\n",
              "\n",
              "    [theme=dark] .colab-df-convert:hover {\n",
              "      background-color: #434B5C;\n",
              "      box-shadow: 0px 1px 3px 1px rgba(0, 0, 0, 0.15);\n",
              "      filter: drop-shadow(0px 1px 2px rgba(0, 0, 0, 0.3));\n",
              "      fill: #FFFFFF;\n",
              "    }\n",
              "  </style>\n",
              "\n",
              "      <script>\n",
              "        const buttonEl =\n",
              "          document.querySelector('#df-bbbc60bf-03ec-4a0b-946f-0bd16a82253f button.colab-df-convert');\n",
              "        buttonEl.style.display =\n",
              "          google.colab.kernel.accessAllowed ? 'block' : 'none';\n",
              "\n",
              "        async function convertToInteractive(key) {\n",
              "          const element = document.querySelector('#df-bbbc60bf-03ec-4a0b-946f-0bd16a82253f');\n",
              "          const dataTable =\n",
              "            await google.colab.kernel.invokeFunction('convertToInteractive',\n",
              "                                                     [key], {});\n",
              "          if (!dataTable) return;\n",
              "\n",
              "          const docLinkHtml = 'Like what you see? Visit the ' +\n",
              "            '<a target=\"_blank\" href=https://colab.research.google.com/notebooks/data_table.ipynb>data table notebook</a>'\n",
              "            + ' to learn more about interactive tables.';\n",
              "          element.innerHTML = '';\n",
              "          dataTable['output_type'] = 'display_data';\n",
              "          await google.colab.output.renderOutput(dataTable, element);\n",
              "          const docLink = document.createElement('div');\n",
              "          docLink.innerHTML = docLinkHtml;\n",
              "          element.appendChild(docLink);\n",
              "        }\n",
              "      </script>\n",
              "    </div>\n",
              "  </div>\n",
              "  "
            ]
          },
          "metadata": {},
          "execution_count": 4
        }
      ]
    },
    {
      "cell_type": "code",
      "source": [
        "train.describe()"
      ],
      "metadata": {
        "colab": {
          "base_uri": "https://localhost:8080/",
          "height": 300
        },
        "id": "FzIJ9QA8prPd",
        "outputId": "a108505b-b05c-4e1f-bcf2-7c4928ac772e"
      },
      "execution_count": null,
      "outputs": [
        {
          "output_type": "execute_result",
          "data": {
            "text/plain": [
              "         ArticleId\n",
              "count  1490.000000\n",
              "mean   1119.696644\n",
              "std     641.826283\n",
              "min       2.000000\n",
              "25%     565.250000\n",
              "50%    1112.500000\n",
              "75%    1680.750000\n",
              "max    2224.000000"
            ],
            "text/html": [
              "\n",
              "  <div id=\"df-4eb37b39-d0ec-44a6-add9-6a00ad66bdca\">\n",
              "    <div class=\"colab-df-container\">\n",
              "      <div>\n",
              "<style scoped>\n",
              "    .dataframe tbody tr th:only-of-type {\n",
              "        vertical-align: middle;\n",
              "    }\n",
              "\n",
              "    .dataframe tbody tr th {\n",
              "        vertical-align: top;\n",
              "    }\n",
              "\n",
              "    .dataframe thead th {\n",
              "        text-align: right;\n",
              "    }\n",
              "</style>\n",
              "<table border=\"1\" class=\"dataframe\">\n",
              "  <thead>\n",
              "    <tr style=\"text-align: right;\">\n",
              "      <th></th>\n",
              "      <th>ArticleId</th>\n",
              "    </tr>\n",
              "  </thead>\n",
              "  <tbody>\n",
              "    <tr>\n",
              "      <th>count</th>\n",
              "      <td>1490.000000</td>\n",
              "    </tr>\n",
              "    <tr>\n",
              "      <th>mean</th>\n",
              "      <td>1119.696644</td>\n",
              "    </tr>\n",
              "    <tr>\n",
              "      <th>std</th>\n",
              "      <td>641.826283</td>\n",
              "    </tr>\n",
              "    <tr>\n",
              "      <th>min</th>\n",
              "      <td>2.000000</td>\n",
              "    </tr>\n",
              "    <tr>\n",
              "      <th>25%</th>\n",
              "      <td>565.250000</td>\n",
              "    </tr>\n",
              "    <tr>\n",
              "      <th>50%</th>\n",
              "      <td>1112.500000</td>\n",
              "    </tr>\n",
              "    <tr>\n",
              "      <th>75%</th>\n",
              "      <td>1680.750000</td>\n",
              "    </tr>\n",
              "    <tr>\n",
              "      <th>max</th>\n",
              "      <td>2224.000000</td>\n",
              "    </tr>\n",
              "  </tbody>\n",
              "</table>\n",
              "</div>\n",
              "      <button class=\"colab-df-convert\" onclick=\"convertToInteractive('df-4eb37b39-d0ec-44a6-add9-6a00ad66bdca')\"\n",
              "              title=\"Convert this dataframe to an interactive table.\"\n",
              "              style=\"display:none;\">\n",
              "        \n",
              "  <svg xmlns=\"http://www.w3.org/2000/svg\" height=\"24px\"viewBox=\"0 0 24 24\"\n",
              "       width=\"24px\">\n",
              "    <path d=\"M0 0h24v24H0V0z\" fill=\"none\"/>\n",
              "    <path d=\"M18.56 5.44l.94 2.06.94-2.06 2.06-.94-2.06-.94-.94-2.06-.94 2.06-2.06.94zm-11 1L8.5 8.5l.94-2.06 2.06-.94-2.06-.94L8.5 2.5l-.94 2.06-2.06.94zm10 10l.94 2.06.94-2.06 2.06-.94-2.06-.94-.94-2.06-.94 2.06-2.06.94z\"/><path d=\"M17.41 7.96l-1.37-1.37c-.4-.4-.92-.59-1.43-.59-.52 0-1.04.2-1.43.59L10.3 9.45l-7.72 7.72c-.78.78-.78 2.05 0 2.83L4 21.41c.39.39.9.59 1.41.59.51 0 1.02-.2 1.41-.59l7.78-7.78 2.81-2.81c.8-.78.8-2.07 0-2.86zM5.41 20L4 18.59l7.72-7.72 1.47 1.35L5.41 20z\"/>\n",
              "  </svg>\n",
              "      </button>\n",
              "      \n",
              "  <style>\n",
              "    .colab-df-container {\n",
              "      display:flex;\n",
              "      flex-wrap:wrap;\n",
              "      gap: 12px;\n",
              "    }\n",
              "\n",
              "    .colab-df-convert {\n",
              "      background-color: #E8F0FE;\n",
              "      border: none;\n",
              "      border-radius: 50%;\n",
              "      cursor: pointer;\n",
              "      display: none;\n",
              "      fill: #1967D2;\n",
              "      height: 32px;\n",
              "      padding: 0 0 0 0;\n",
              "      width: 32px;\n",
              "    }\n",
              "\n",
              "    .colab-df-convert:hover {\n",
              "      background-color: #E2EBFA;\n",
              "      box-shadow: 0px 1px 2px rgba(60, 64, 67, 0.3), 0px 1px 3px 1px rgba(60, 64, 67, 0.15);\n",
              "      fill: #174EA6;\n",
              "    }\n",
              "\n",
              "    [theme=dark] .colab-df-convert {\n",
              "      background-color: #3B4455;\n",
              "      fill: #D2E3FC;\n",
              "    }\n",
              "\n",
              "    [theme=dark] .colab-df-convert:hover {\n",
              "      background-color: #434B5C;\n",
              "      box-shadow: 0px 1px 3px 1px rgba(0, 0, 0, 0.15);\n",
              "      filter: drop-shadow(0px 1px 2px rgba(0, 0, 0, 0.3));\n",
              "      fill: #FFFFFF;\n",
              "    }\n",
              "  </style>\n",
              "\n",
              "      <script>\n",
              "        const buttonEl =\n",
              "          document.querySelector('#df-4eb37b39-d0ec-44a6-add9-6a00ad66bdca button.colab-df-convert');\n",
              "        buttonEl.style.display =\n",
              "          google.colab.kernel.accessAllowed ? 'block' : 'none';\n",
              "\n",
              "        async function convertToInteractive(key) {\n",
              "          const element = document.querySelector('#df-4eb37b39-d0ec-44a6-add9-6a00ad66bdca');\n",
              "          const dataTable =\n",
              "            await google.colab.kernel.invokeFunction('convertToInteractive',\n",
              "                                                     [key], {});\n",
              "          if (!dataTable) return;\n",
              "\n",
              "          const docLinkHtml = 'Like what you see? Visit the ' +\n",
              "            '<a target=\"_blank\" href=https://colab.research.google.com/notebooks/data_table.ipynb>data table notebook</a>'\n",
              "            + ' to learn more about interactive tables.';\n",
              "          element.innerHTML = '';\n",
              "          dataTable['output_type'] = 'display_data';\n",
              "          await google.colab.output.renderOutput(dataTable, element);\n",
              "          const docLink = document.createElement('div');\n",
              "          docLink.innerHTML = docLinkHtml;\n",
              "          element.appendChild(docLink);\n",
              "        }\n",
              "      </script>\n",
              "    </div>\n",
              "  </div>\n",
              "  "
            ]
          },
          "metadata": {},
          "execution_count": 5
        }
      ]
    },
    {
      "cell_type": "code",
      "source": [
        "sol.head(5)"
      ],
      "metadata": {
        "colab": {
          "base_uri": "https://localhost:8080/",
          "height": 206
        },
        "id": "NZT7e2RlqI-f",
        "outputId": "ea7c381f-4737-4bcb-e5ab-04c0582d61ec"
      },
      "execution_count": null,
      "outputs": [
        {
          "output_type": "execute_result",
          "data": {
            "text/plain": [
              "   ArticleId       Category\n",
              "0       1018          sport\n",
              "1       1319           tech\n",
              "2       1138       business\n",
              "3        459  entertainment\n",
              "4       1020       politics"
            ],
            "text/html": [
              "\n",
              "  <div id=\"df-68be55a9-f671-4c25-8e03-2f7102f44eb2\">\n",
              "    <div class=\"colab-df-container\">\n",
              "      <div>\n",
              "<style scoped>\n",
              "    .dataframe tbody tr th:only-of-type {\n",
              "        vertical-align: middle;\n",
              "    }\n",
              "\n",
              "    .dataframe tbody tr th {\n",
              "        vertical-align: top;\n",
              "    }\n",
              "\n",
              "    .dataframe thead th {\n",
              "        text-align: right;\n",
              "    }\n",
              "</style>\n",
              "<table border=\"1\" class=\"dataframe\">\n",
              "  <thead>\n",
              "    <tr style=\"text-align: right;\">\n",
              "      <th></th>\n",
              "      <th>ArticleId</th>\n",
              "      <th>Category</th>\n",
              "    </tr>\n",
              "  </thead>\n",
              "  <tbody>\n",
              "    <tr>\n",
              "      <th>0</th>\n",
              "      <td>1018</td>\n",
              "      <td>sport</td>\n",
              "    </tr>\n",
              "    <tr>\n",
              "      <th>1</th>\n",
              "      <td>1319</td>\n",
              "      <td>tech</td>\n",
              "    </tr>\n",
              "    <tr>\n",
              "      <th>2</th>\n",
              "      <td>1138</td>\n",
              "      <td>business</td>\n",
              "    </tr>\n",
              "    <tr>\n",
              "      <th>3</th>\n",
              "      <td>459</td>\n",
              "      <td>entertainment</td>\n",
              "    </tr>\n",
              "    <tr>\n",
              "      <th>4</th>\n",
              "      <td>1020</td>\n",
              "      <td>politics</td>\n",
              "    </tr>\n",
              "  </tbody>\n",
              "</table>\n",
              "</div>\n",
              "      <button class=\"colab-df-convert\" onclick=\"convertToInteractive('df-68be55a9-f671-4c25-8e03-2f7102f44eb2')\"\n",
              "              title=\"Convert this dataframe to an interactive table.\"\n",
              "              style=\"display:none;\">\n",
              "        \n",
              "  <svg xmlns=\"http://www.w3.org/2000/svg\" height=\"24px\"viewBox=\"0 0 24 24\"\n",
              "       width=\"24px\">\n",
              "    <path d=\"M0 0h24v24H0V0z\" fill=\"none\"/>\n",
              "    <path d=\"M18.56 5.44l.94 2.06.94-2.06 2.06-.94-2.06-.94-.94-2.06-.94 2.06-2.06.94zm-11 1L8.5 8.5l.94-2.06 2.06-.94-2.06-.94L8.5 2.5l-.94 2.06-2.06.94zm10 10l.94 2.06.94-2.06 2.06-.94-2.06-.94-.94-2.06-.94 2.06-2.06.94z\"/><path d=\"M17.41 7.96l-1.37-1.37c-.4-.4-.92-.59-1.43-.59-.52 0-1.04.2-1.43.59L10.3 9.45l-7.72 7.72c-.78.78-.78 2.05 0 2.83L4 21.41c.39.39.9.59 1.41.59.51 0 1.02-.2 1.41-.59l7.78-7.78 2.81-2.81c.8-.78.8-2.07 0-2.86zM5.41 20L4 18.59l7.72-7.72 1.47 1.35L5.41 20z\"/>\n",
              "  </svg>\n",
              "      </button>\n",
              "      \n",
              "  <style>\n",
              "    .colab-df-container {\n",
              "      display:flex;\n",
              "      flex-wrap:wrap;\n",
              "      gap: 12px;\n",
              "    }\n",
              "\n",
              "    .colab-df-convert {\n",
              "      background-color: #E8F0FE;\n",
              "      border: none;\n",
              "      border-radius: 50%;\n",
              "      cursor: pointer;\n",
              "      display: none;\n",
              "      fill: #1967D2;\n",
              "      height: 32px;\n",
              "      padding: 0 0 0 0;\n",
              "      width: 32px;\n",
              "    }\n",
              "\n",
              "    .colab-df-convert:hover {\n",
              "      background-color: #E2EBFA;\n",
              "      box-shadow: 0px 1px 2px rgba(60, 64, 67, 0.3), 0px 1px 3px 1px rgba(60, 64, 67, 0.15);\n",
              "      fill: #174EA6;\n",
              "    }\n",
              "\n",
              "    [theme=dark] .colab-df-convert {\n",
              "      background-color: #3B4455;\n",
              "      fill: #D2E3FC;\n",
              "    }\n",
              "\n",
              "    [theme=dark] .colab-df-convert:hover {\n",
              "      background-color: #434B5C;\n",
              "      box-shadow: 0px 1px 3px 1px rgba(0, 0, 0, 0.15);\n",
              "      filter: drop-shadow(0px 1px 2px rgba(0, 0, 0, 0.3));\n",
              "      fill: #FFFFFF;\n",
              "    }\n",
              "  </style>\n",
              "\n",
              "      <script>\n",
              "        const buttonEl =\n",
              "          document.querySelector('#df-68be55a9-f671-4c25-8e03-2f7102f44eb2 button.colab-df-convert');\n",
              "        buttonEl.style.display =\n",
              "          google.colab.kernel.accessAllowed ? 'block' : 'none';\n",
              "\n",
              "        async function convertToInteractive(key) {\n",
              "          const element = document.querySelector('#df-68be55a9-f671-4c25-8e03-2f7102f44eb2');\n",
              "          const dataTable =\n",
              "            await google.colab.kernel.invokeFunction('convertToInteractive',\n",
              "                                                     [key], {});\n",
              "          if (!dataTable) return;\n",
              "\n",
              "          const docLinkHtml = 'Like what you see? Visit the ' +\n",
              "            '<a target=\"_blank\" href=https://colab.research.google.com/notebooks/data_table.ipynb>data table notebook</a>'\n",
              "            + ' to learn more about interactive tables.';\n",
              "          element.innerHTML = '';\n",
              "          dataTable['output_type'] = 'display_data';\n",
              "          await google.colab.output.renderOutput(dataTable, element);\n",
              "          const docLink = document.createElement('div');\n",
              "          docLink.innerHTML = docLinkHtml;\n",
              "          element.appendChild(docLink);\n",
              "        }\n",
              "      </script>\n",
              "    </div>\n",
              "  </div>\n",
              "  "
            ]
          },
          "metadata": {},
          "execution_count": 6
        }
      ]
    },
    {
      "cell_type": "markdown",
      "source": [
        "Both the train and test datasets appear to be clean. The top 5 entries of the sample solution shows the structure we are aiming to achieve by the end of the study.  \n",
        "  \n",
        "Next, we'll look at histograms of categories to get a sense of the distribution."
      ],
      "metadata": {
        "id": "y-kP2M82qLq6"
      }
    },
    {
      "cell_type": "code",
      "source": [
        "count_occurrences = train.groupby(['Category']).size()\n",
        "print(count_occurrences)\n",
        "\n",
        "#Barplot of category frequency\n",
        "x = list(count_occurrences.index)\n",
        "y = [i for i in count_occurrences]\n",
        "\n",
        "fig = plt.figure(figsize = (10, 5))\n",
        "plt.bar(x, y)\n",
        "plt.xlabel(\"Category\")\n",
        "plt.ylabel(\"Count\")\n",
        "plt.title(\"Category Histogram\")\n",
        "plt.show()"
      ],
      "metadata": {
        "colab": {
          "base_uri": "https://localhost:8080/",
          "height": 476
        },
        "id": "k4cQ2VaqqagE",
        "outputId": "78166d0f-8334-4366-d0a8-a38a76e2ebea"
      },
      "execution_count": null,
      "outputs": [
        {
          "output_type": "stream",
          "name": "stdout",
          "text": [
            "Category\n",
            "business         336\n",
            "entertainment    273\n",
            "politics         274\n",
            "sport            346\n",
            "tech             261\n",
            "dtype: int64\n"
          ]
        },
        {
          "output_type": "display_data",
          "data": {
            "text/plain": [
              "<Figure size 720x360 with 1 Axes>"
            ],
            "image/png": "[encoded data removed]"
          },
          "metadata": {
            "needs_background": "light"
          }
        }
      ]
    },
    {
      "cell_type": "markdown",
      "source": [
        "Each category is roughly evenly distributed, with 'business' and 'sport' being the top two most common categories."
      ],
      "metadata": {
        "id": "bJb4bfkxr9ay"
      }
    },
    {
      "cell_type": "markdown",
      "source": [
        "##Text Preprocessing\n",
        "Implement helper functions to:\n",
        "1. Lemmatize\n",
        "2. Tokenize\n",
        "3. Remove punctuation and stopwords"
      ],
      "metadata": {
        "id": "Xct0R5fBtF53"
      }
    },
    {
      "cell_type": "code",
      "source": [
        "#Define functions for Lemmatize, remove stopwords, punctuation, and tokenize.\n",
        "w_tok = nltk.tokenize.word_tokenize\n",
        "STEM = nltk.PorterStemmer()\n",
        "LEMM = nltk.WordNetLemmatizer()\n",
        "\n",
        "def tokenize(text, lowercase=True):\n",
        "    if lowercase:\n",
        "        text = text.lower()\n",
        "        return w_tok(text)\n",
        "\n",
        "def stem(tokens):\n",
        "    return [STEM.stem(token) for token in tokens]\n",
        "\n",
        "def lemmatize(tokens):\n",
        "    lemm = []\n",
        "    for token in tokens:\n",
        "        if isinstance(token, str):\n",
        "            lemm.append(LEMM.lemmatize(token)) # treats token like a noun\n",
        "        else: # assume a tuple of (word, pos)\n",
        "            lemm.append(LEMM.lemmatize(*token))\n",
        "    return lemm\n",
        "\n",
        "def remove_stopwords(tokens, stopwords = None):\n",
        "    if stopwords is None:\n",
        "        stopwords = nltk.corpus.stopwords.words(\"english\")\n",
        "    return [token for token in tokens if token not in stopwords]\n",
        "\n",
        "def remove_punctuation(tokens):\n",
        "    return [token for token in tokens if token not in string.punctuation]"
      ],
      "metadata": {
        "id": "c8viWXkC1RIG"
      },
      "execution_count": null,
      "outputs": []
    },
    {
      "cell_type": "code",
      "source": [
        "text_train = []\n",
        "for i, t in enumerate(train['Text']):\n",
        "    text = t\n",
        "    prep_text = tokenize(text)\n",
        "    prep_text = remove_stopwords(prep_text)\n",
        "    prep_text = remove_punctuation(prep_text)\n",
        "    prep_text = lemmatize(prep_text)\n",
        "    text_train.append(' '.join(prep_text))"
      ],
      "metadata": {
        "id": "kUBF5v5p2mz3"
      },
      "execution_count": null,
      "outputs": []
    },
    {
      "cell_type": "code",
      "source": [
        "train['Prep_Text'] = text_train"
      ],
      "metadata": {
        "id": "iImdXPCX3oyB"
      },
      "execution_count": null,
      "outputs": []
    },
    {
      "cell_type": "code",
      "source": [
        "print(train.head(5))"
      ],
      "metadata": {
        "colab": {
          "base_uri": "https://localhost:8080/"
        },
        "id": "85G5wuA8r9n_",
        "outputId": "d57f2761-280c-4cc3-94c2-60dca905d50b"
      },
      "execution_count": null,
      "outputs": [
        {
          "output_type": "stream",
          "name": "stdout",
          "text": [
            "   ArticleId                                               Text  Category  \\\n",
            "0       1833  worldcom ex-boss launches defence lawyers defe...  business   \n",
            "1        154  german business confidence slides german busin...  business   \n",
            "2       1101  bbc poll indicates economic gloom citizens in ...  business   \n",
            "3       1976  lifestyle  governs mobile choice  faster  bett...      tech   \n",
            "4        917  enron bosses in $168m payout eighteen former e...  business   \n",
            "\n",
            "                                           Prep_Text  \n",
            "0  worldcom ex-boss launch defence lawyer defendi...  \n",
            "1  german business confidence slide german busine...  \n",
            "2  bbc poll indicates economic gloom citizen majo...  \n",
            "3  lifestyle governs mobile choice faster better ...  \n",
            "4  enron boss 168m payout eighteen former enron d...  \n"
          ]
        }
      ]
    },
    {
      "cell_type": "code",
      "source": [
        "word_count = []\n",
        "for i, j in enumerate(text_train):\n",
        "    word_count.append(len(j.split()))\n",
        "train['Word_Count'] = word_count"
      ],
      "metadata": {
        "id": "F30vy8BplmQr"
      },
      "execution_count": null,
      "outputs": []
    },
    {
      "cell_type": "markdown",
      "source": [
        "The preprocessing results show cleaned texts. Once again, we'll take a brief look at the histograms of the words per category."
      ],
      "metadata": {
        "id": "497tUIaPL68B"
      }
    },
    {
      "cell_type": "code",
      "source": [
        "wordlen_by_cat = (train.groupby(['Category']).sum())['Word_Count']\n",
        "x = list(wordlen_by_cat.index)\n",
        "y = [i for i in wordlen_by_cat]\n",
        "fig = plt.figure(figsize = (10, 5))\n",
        "plt.bar(x, y)\n",
        "plt.xlabel(\"Category\")\n",
        "plt.ylabel(\"Total Word Count\")\n",
        "plt.title(\"Words per Category Histogram\")\n",
        "plt.show()"
      ],
      "metadata": {
        "colab": {
          "base_uri": "https://localhost:8080/",
          "height": 350
        },
        "id": "priMEiqlQ2Ao",
        "outputId": "7934a853-df94-415d-fb0f-e6350441ce55"
      },
      "execution_count": null,
      "outputs": [
        {
          "output_type": "display_data",
          "data": {
            "text/plain": [
              "<Figure size 720x360 with 1 Axes>"
            ],
            "image/png": "[encoded data removed]"
          },
          "metadata": {
            "needs_background": "light"
          }
        }
      ]
    },
    {
      "cell_type": "markdown",
      "source": [
        "Total number of words per category also seems pretty uniform. The data preparation is complete and ready for model training."
      ],
      "metadata": {
        "id": "66tT5WP1RKcj"
      }
    },
    {
      "cell_type": "code",
      "source": [
        "def label_permute_compare(ytdf, yh, n=5):\n",
        "    \"\"\"\n",
        "    ytdf: labels dataframe object\n",
        "    yp: clustering label prediction output\n",
        "    Returns permuted label order and accuracy. \n",
        "    Example output: (3, 4, 1, 2, 0), 0.74 \n",
        "    \"\"\"\n",
        "# your code here\n",
        "    labels = ['business', 'tech', 'politics', 'sport', 'entertainment']\n",
        "    str_perms = list(itertools.permutations(labels, n)) #permutations\n",
        "    str_perms = np.asarray(str_perms) \n",
        "\n",
        "    try_labels = [str_perms[:, x] for x in yh]\n",
        "    try_labels = np.asarray(try_labels)[:, None]\n",
        "    count = [np.count_nonzero((try_labels[:, :, x]) == ytdf) for x in range(len(str_perms))]\n",
        "    acc_idx = count.index(max(count))\n",
        "    acc = max(count) / len(ytdf)\n",
        "    order = tuple([labels.index(x) for x in str_perms[acc_idx]])\n",
        "    \n",
        "    return order, acc"
      ],
      "metadata": {
        "id": "zG4-MIwzYKqj"
      },
      "execution_count": null,
      "outputs": []
    },
    {
      "cell_type": "code",
      "source": [
        "#Initiate Vectorizer\n",
        "tfidf = TfidfVectorizer(min_df = 2, max_df = 0.95, norm = 'l2', stop_words = 'english')\n",
        "tfidf_train = tfidf.fit_transform(train['Prep_Text'])\n",
        "\n",
        "#Generate Model\n",
        "mod = NMF(n_components = len(x), init = 'nndsvda', solver = 'mu', beta_loss = 'kullback-leibler', l1_ratio = 0.5, random_state = 1234)\n",
        "mat = mod.fit_transform(tfidf_train)"
      ],
      "metadata": {
        "id": "xGTLA206T09w"
      },
      "execution_count": null,
      "outputs": []
    },
    {
      "cell_type": "code",
      "source": [
        "#Prediction output\n",
        "yh_train = mat.argmax(axis = 1)"
      ],
      "metadata": {
        "id": "G4JXdkGSUs2z"
      },
      "execution_count": null,
      "outputs": []
    },
    {
      "cell_type": "code",
      "source": [
        "labelorder, acc = label_permute_compare(train, yh_train)"
      ],
      "metadata": {
        "id": "odYr3QBxYZhL"
      },
      "execution_count": null,
      "outputs": []
    },
    {
      "cell_type": "markdown",
      "source": [
        "The classification assigns labels randomly. The code below is to match the correct labels to each cluster, as well as create a confusion matrix for better visualization."
      ],
      "metadata": {
        "id": "JBJnl8a6YweW"
      }
    },
    {
      "cell_type": "code",
      "source": [
        "#Create Confusion Matrix for better visualization\n",
        "cluster_labels = {0: 'tech', 1: 'politics', 2: 'entertainment', 3: 'sport', 4: 'entertainment'}\n",
        "\n",
        "label_num = [labels[i] for i in labelorder]\n",
        "yh = [label_num[i] for i in yh_train]\n",
        "conf_matrix = confusion_matrix(train['Category'], yh)\n",
        "conf_matrix = sns.heatmap(conf_matrix, annot = True, cmap = 'Blues', fmt = 'g', linewidths = 0.1)\n",
        "conf_matrix.set_title('Confusion Matrix\\n\\n');\n",
        "conf_matrix.set_xlabel('\\nPredicted');\n",
        "conf_matrix.set_ylabel('Actual');"
      ],
      "metadata": {
        "colab": {
          "base_uri": "https://localhost:8080/",
          "height": 337
        },
        "id": "4Tc7zqFMauY9",
        "outputId": "660abfc5-3dda-4c77-c7fc-fce99d8f06fd"
      },
      "execution_count": null,
      "outputs": [
        {
          "output_type": "display_data",
          "data": {
            "text/plain": [
              "<Figure size 432x288 with 2 Axes>"
            ],
            "image/png": "[encoded data removed]"
          },
          "metadata": {
            "needs_background": "light"
          }
        }
      ]
    },
    {
      "cell_type": "code",
      "source": [
        "#Verify\n",
        "print(label_num)\n",
        "print(yh_train[:10])\n",
        "print(train['Category'][:10])"
      ],
      "metadata": {
        "colab": {
          "base_uri": "https://localhost:8080/"
        },
        "id": "ClEjLe49ukSQ",
        "outputId": "18e19748-1331-4d46-c36b-e2e74212bc2a"
      },
      "execution_count": null,
      "outputs": [
        {
          "output_type": "stream",
          "name": "stdout",
          "text": [
            "['tech', 'politics', 'entertainment', 'sport', 'business']\n",
            "[4 4 4 0 4 1 3 2 4 2]\n",
            "0         business\n",
            "1         business\n",
            "2         business\n",
            "3             tech\n",
            "4         business\n",
            "5         politics\n",
            "6            sport\n",
            "7    entertainment\n",
            "8         business\n",
            "9    entertainment\n",
            "Name: Category, dtype: object\n"
          ]
        }
      ]
    },
    {
      "cell_type": "markdown",
      "source": [
        "This verifies that we obtained the correct cluster labels. The predicted output integers represent the indices of the cluster labels. We can create a dictionary to better keep track of cluster numbers and the matching category names."
      ],
      "metadata": {
        "id": "22rmMD6EANlx"
      }
    },
    {
      "cell_type": "markdown",
      "source": [
        "Now we will validate using the test data and see how the model performs."
      ],
      "metadata": {
        "id": "i1sJDMqDgj_j"
      }
    },
    {
      "cell_type": "code",
      "source": [
        "text_test = []\n",
        "for i, t in enumerate(test['Text']):\n",
        "    text = t\n",
        "    prep_text = tokenize(text)\n",
        "    prep_text = remove_stopwords(prep_text)\n",
        "    prep_text = remove_punctuation(prep_text)\n",
        "    prep_text = lemmatize(prep_text)\n",
        "    text_test.append(' '.join(prep_text))"
      ],
      "metadata": {
        "id": "mei0-czcu1Od"
      },
      "execution_count": null,
      "outputs": []
    },
    {
      "cell_type": "code",
      "source": [
        "test['Prep_Text'] = text_test"
      ],
      "metadata": {
        "id": "i5LCYe5Lu1Od"
      },
      "execution_count": null,
      "outputs": []
    },
    {
      "cell_type": "code",
      "source": [
        "print(test.head(5))"
      ],
      "metadata": {
        "colab": {
          "base_uri": "https://localhost:8080/"
        },
        "id": "cl8MjoFawS-C",
        "outputId": "31db701a-9d37-4ab4-d1b6-82b383194fb6"
      },
      "execution_count": null,
      "outputs": [
        {
          "output_type": "stream",
          "name": "stdout",
          "text": [
            "   ArticleId                                               Text  \\\n",
            "0       1018  qpr keeper day heads for preston queens park r...   \n",
            "1       1319  software watching while you work software that...   \n",
            "2       1138  d arcy injury adds to ireland woe gordon d arc...   \n",
            "3        459  india s reliance family feud heats up the ongo...   \n",
            "4       1020  boro suffer morrison injury blow middlesbrough...   \n",
            "\n",
            "                                           Prep_Text  \n",
            "0  qpr keeper day head preston queen park ranger ...  \n",
            "1  software watching work software monitor every ...  \n",
            "2  arcy injury add ireland woe gordon arcy ruled ...  \n",
            "3  india reliance family feud heat ongoing public...  \n",
            "4  boro suffer morrison injury blow middlesbrough...  \n"
          ]
        }
      ]
    },
    {
      "cell_type": "code",
      "source": [
        "tfidf_test = tfidf.transform(test['Prep_Text'])\n",
        "mat_test = mod.transform(tfidf_test)"
      ],
      "metadata": {
        "id": "V-OM3tfAvI8N"
      },
      "execution_count": null,
      "outputs": []
    },
    {
      "cell_type": "code",
      "source": [
        "yh_test = mat_test.argmax(axis = 1)\n",
        "test['y_hat'] = yh_test\n",
        "test_results = pd.DataFrame(columns = ['ArticleId', 'Category'])\n",
        "test_results['ArticleId'] = test['ArticleId']\n",
        "yh_cat = test['y_hat'].apply(lambda i: cluster_labels[i])\n",
        "test_results['Category'] = yh_cat\n",
        "print(test.tail(10))"
      ],
      "metadata": {
        "colab": {
          "base_uri": "https://localhost:8080/"
        },
        "id": "Ncll2MKUwGfA",
        "outputId": "6af69acb-38a4-4901-b362-0da2e56cbed0"
      },
      "execution_count": null,
      "outputs": [
        {
          "output_type": "stream",
          "name": "stdout",
          "text": [
            "     ArticleId                                               Text  \\\n",
            "725       2155  green reports shun supply chain nearly 20% mor...   \n",
            "726        553  the memory driving brown s mission the memory ...   \n",
            "727        551  labour accused of broken pledge labour has alr...   \n",
            "728       1724  pc photo printers challenge pros home printed ...   \n",
            "729       1512  dogged federer claims dubai crown world number...   \n",
            "730       1923  eu to probe alitalia  state aid  the european ...   \n",
            "731        373  u2 to play at grammy awards show irish rock ba...   \n",
            "732       1704  sport betting rules in spotlight a group of mp...   \n",
            "733        206  alfa romeos  to get gm engines  fiat is to sto...   \n",
            "734        471  citizenship event for 18s touted citizenship c...   \n",
            "\n",
            "                                             Prep_Text  y_hat  \\\n",
            "725  green report shun supply chain nearly 20 uk to...      4   \n",
            "726  memory driving brown mission memory gordon bro...      1   \n",
            "727  labour accused broken pledge labour already br...      1   \n",
            "728  pc photo printer challenge pro home printed pi...      0   \n",
            "729  dogged federer claim dubai crown world number ...      3   \n",
            "730  eu probe alitalia state aid european commissio...      4   \n",
            "731  u2 play grammy award show irish rock band u2 p...      2   \n",
            "732  sport betting rule spotlight group mp peer cal...      1   \n",
            "733  alfa romeo get gm engine fiat stop making six-...      4   \n",
            "734  citizenship event 18 touted citizenship ceremo...      1   \n",
            "\n",
            "    Classified Category  \n",
            "725       entertainment  \n",
            "726            politics  \n",
            "727            politics  \n",
            "728                tech  \n",
            "729               sport  \n",
            "730       entertainment  \n",
            "731       entertainment  \n",
            "732            politics  \n",
            "733       entertainment  \n",
            "734            politics  \n"
          ]
        }
      ]
    },
    {
      "cell_type": "code",
      "source": [
        "valuemf = test_results.Category.isin(train.Category).astype(int)\n",
        "count = 0\n",
        "for i in range(len(test_results)):\n",
        "    if test_results.Category[i] == train.Category[i]:\n",
        "        count += 1\n",
        "\n",
        "print(count/len(test_results))"
      ],
      "metadata": {
        "colab": {
          "base_uri": "https://localhost:8080/"
        },
        "id": "az0xQyBkG5u8",
        "outputId": "513c0d86-e597-4aa1-9854-0aa14aab030b"
      },
      "execution_count": null,
      "outputs": [
        {
          "output_type": "stream",
          "name": "stdout",
          "text": [
            "0.16598639455782313\n"
          ]
        }
      ]
    },
    {
      "cell_type": "code",
      "source": [
        "test_results.head()"
      ],
      "metadata": {
        "colab": {
          "base_uri": "https://localhost:8080/",
          "height": 206
        },
        "id": "IjSNB2Z556ke",
        "outputId": "9d96ff2b-d769-46b9-b42c-391b8832b3d5"
      },
      "execution_count": null,
      "outputs": [
        {
          "output_type": "execute_result",
          "data": {
            "text/plain": [
              "   ArticleId       Category\n",
              "0       1018          sport\n",
              "1       1319           tech\n",
              "2       1138          sport\n",
              "3        459  entertainment\n",
              "4       1020          sport"
            ],
            "text/html": [
              "\n",
              "  <div id=\"df-8237d09d-5c1f-42eb-8f38-35bb70dc122e\">\n",
              "    <div class=\"colab-df-container\">\n",
              "      <div>\n",
              "<style scoped>\n",
              "    .dataframe tbody tr th:only-of-type {\n",
              "        vertical-align: middle;\n",
              "    }\n",
              "\n",
              "    .dataframe tbody tr th {\n",
              "        vertical-align: top;\n",
              "    }\n",
              "\n",
              "    .dataframe thead th {\n",
              "        text-align: right;\n",
              "    }\n",
              "</style>\n",
              "<table border=\"1\" class=\"dataframe\">\n",
              "  <thead>\n",
              "    <tr style=\"text-align: right;\">\n",
              "      <th></th>\n",
              "      <th>ArticleId</th>\n",
              "      <th>Category</th>\n",
              "    </tr>\n",
              "  </thead>\n",
              "  <tbody>\n",
              "    <tr>\n",
              "      <th>0</th>\n",
              "      <td>1018</td>\n",
              "      <td>sport</td>\n",
              "    </tr>\n",
              "    <tr>\n",
              "      <th>1</th>\n",
              "      <td>1319</td>\n",
              "      <td>tech</td>\n",
              "    </tr>\n",
              "    <tr>\n",
              "      <th>2</th>\n",
              "      <td>1138</td>\n",
              "      <td>sport</td>\n",
              "    </tr>\n",
              "    <tr>\n",
              "      <th>3</th>\n",
              "      <td>459</td>\n",
              "      <td>entertainment</td>\n",
              "    </tr>\n",
              "    <tr>\n",
              "      <th>4</th>\n",
              "      <td>1020</td>\n",
              "      <td>sport</td>\n",
              "    </tr>\n",
              "  </tbody>\n",
              "</table>\n",
              "</div>\n",
              "      <button class=\"colab-df-convert\" onclick=\"convertToInteractive('df-8237d09d-5c1f-42eb-8f38-35bb70dc122e')\"\n",
              "              title=\"Convert this dataframe to an interactive table.\"\n",
              "              style=\"display:none;\">\n",
              "        \n",
              "  <svg xmlns=\"http://www.w3.org/2000/svg\" height=\"24px\"viewBox=\"0 0 24 24\"\n",
              "       width=\"24px\">\n",
              "    <path d=\"M0 0h24v24H0V0z\" fill=\"none\"/>\n",
              "    <path d=\"M18.56 5.44l.94 2.06.94-2.06 2.06-.94-2.06-.94-.94-2.06-.94 2.06-2.06.94zm-11 1L8.5 8.5l.94-2.06 2.06-.94-2.06-.94L8.5 2.5l-.94 2.06-2.06.94zm10 10l.94 2.06.94-2.06 2.06-.94-2.06-.94-.94-2.06-.94 2.06-2.06.94z\"/><path d=\"M17.41 7.96l-1.37-1.37c-.4-.4-.92-.59-1.43-.59-.52 0-1.04.2-1.43.59L10.3 9.45l-7.72 7.72c-.78.78-.78 2.05 0 2.83L4 21.41c.39.39.9.59 1.41.59.51 0 1.02-.2 1.41-.59l7.78-7.78 2.81-2.81c.8-.78.8-2.07 0-2.86zM5.41 20L4 18.59l7.72-7.72 1.47 1.35L5.41 20z\"/>\n",
              "  </svg>\n",
              "      </button>\n",
              "      \n",
              "  <style>\n",
              "    .colab-df-container {\n",
              "      display:flex;\n",
              "      flex-wrap:wrap;\n",
              "      gap: 12px;\n",
              "    }\n",
              "\n",
              "    .colab-df-convert {\n",
              "      background-color: #E8F0FE;\n",
              "      border: none;\n",
              "      border-radius: 50%;\n",
              "      cursor: pointer;\n",
              "      display: none;\n",
              "      fill: #1967D2;\n",
              "      height: 32px;\n",
              "      padding: 0 0 0 0;\n",
              "      width: 32px;\n",
              "    }\n",
              "\n",
              "    .colab-df-convert:hover {\n",
              "      background-color: #E2EBFA;\n",
              "      box-shadow: 0px 1px 2px rgba(60, 64, 67, 0.3), 0px 1px 3px 1px rgba(60, 64, 67, 0.15);\n",
              "      fill: #174EA6;\n",
              "    }\n",
              "\n",
              "    [theme=dark] .colab-df-convert {\n",
              "      background-color: #3B4455;\n",
              "      fill: #D2E3FC;\n",
              "    }\n",
              "\n",
              "    [theme=dark] .colab-df-convert:hover {\n",
              "      background-color: #434B5C;\n",
              "      box-shadow: 0px 1px 3px 1px rgba(0, 0, 0, 0.15);\n",
              "      filter: drop-shadow(0px 1px 2px rgba(0, 0, 0, 0.3));\n",
              "      fill: #FFFFFF;\n",
              "    }\n",
              "  </style>\n",
              "\n",
              "      <script>\n",
              "        const buttonEl =\n",
              "          document.querySelector('#df-8237d09d-5c1f-42eb-8f38-35bb70dc122e button.colab-df-convert');\n",
              "        buttonEl.style.display =\n",
              "          google.colab.kernel.accessAllowed ? 'block' : 'none';\n",
              "\n",
              "        async function convertToInteractive(key) {\n",
              "          const element = document.querySelector('#df-8237d09d-5c1f-42eb-8f38-35bb70dc122e');\n",
              "          const dataTable =\n",
              "            await google.colab.kernel.invokeFunction('convertToInteractive',\n",
              "                                                     [key], {});\n",
              "          if (!dataTable) return;\n",
              "\n",
              "          const docLinkHtml = 'Like what you see? Visit the ' +\n",
              "            '<a target=\"_blank\" href=https://colab.research.google.com/notebooks/data_table.ipynb>data table notebook</a>'\n",
              "            + ' to learn more about interactive tables.';\n",
              "          element.innerHTML = '';\n",
              "          dataTable['output_type'] = 'display_data';\n",
              "          await google.colab.output.renderOutput(dataTable, element);\n",
              "          const docLink = document.createElement('div');\n",
              "          docLink.innerHTML = docLinkHtml;\n",
              "          element.appendChild(docLink);\n",
              "        }\n",
              "      </script>\n",
              "    </div>\n",
              "  </div>\n",
              "  "
            ]
          },
          "metadata": {},
          "execution_count": 59
        }
      ]
    },
    {
      "cell_type": "markdown",
      "source": [
        "We have the test dataset and its articles classified to their predicted categories. "
      ],
      "metadata": {
        "id": "E9uTSuqMyIGd"
      }
    },
    {
      "cell_type": "markdown",
      "source": [
        "#Part 2: Use the Movies data from Week 3\n",
        "Now we will compare performance when Unsupervised ML technique is used on a more appropriate dataset, namely the movies and user ratings datset."
      ],
      "metadata": {
        "id": "yGTNhjkBzeue"
      }
    },
    {
      "cell_type": "code",
      "source": [
        "#Load data\n",
        "train = pd.read_csv(path + 'train.csv')\n",
        "test = pd.read_csv(path + 'test.csv')\n",
        "MV_users = pd.read_csv(path + 'users.csv')\n",
        "MV_movies = pd.read_csv(path + 'movies.csv')"
      ],
      "metadata": {
        "id": "NUkDqFTX2aax"
      },
      "execution_count": null,
      "outputs": []
    },
    {
      "cell_type": "code",
      "source": [
        "from collections import namedtuple\n",
        "Data = namedtuple('Data', ['users','movies','train','test'])\n",
        "data = Data(MV_users, MV_movies, train, test)"
      ],
      "metadata": {
        "id": "gar9WWRNM3Ua"
      },
      "execution_count": null,
      "outputs": []
    },
    {
      "cell_type": "code",
      "source": [
        "data.train.info()"
      ],
      "metadata": {
        "colab": {
          "base_uri": "https://localhost:8080/"
        },
        "id": "aKDYjEDMLJ9t",
        "outputId": "59f26359-dc9b-4673-88f9-1a58c87df75f"
      },
      "execution_count": null,
      "outputs": [
        {
          "output_type": "stream",
          "name": "stdout",
          "text": [
            "<class 'pandas.core.frame.DataFrame'>\n",
            "RangeIndex: 700146 entries, 0 to 700145\n",
            "Data columns (total 3 columns):\n",
            " #   Column  Non-Null Count   Dtype\n",
            "---  ------  --------------   -----\n",
            " 0   uID     700146 non-null  int64\n",
            " 1   mID     700146 non-null  int64\n",
            " 2   rating  700146 non-null  int64\n",
            "dtypes: int64(3)\n",
            "memory usage: 16.0 MB\n"
          ]
        }
      ]
    },
    {
      "cell_type": "code",
      "source": [
        "data.train.head()"
      ],
      "metadata": {
        "colab": {
          "base_uri": "https://localhost:8080/",
          "height": 206
        },
        "id": "wHvQu6_UMbpc",
        "outputId": "abbfdb54-0050-4797-926c-474ce81d1c4c"
      },
      "execution_count": null,
      "outputs": [
        {
          "output_type": "execute_result",
          "data": {
            "text/plain": [
              "    uID   mID  rating\n",
              "0   744  1210       5\n",
              "1  3040  1584       4\n",
              "2  1451  1293       5\n",
              "3  5455  3176       2\n",
              "4  2507  3074       5"
            ],
            "text/html": [
              "\n",
              "  <div id=\"df-af5b70b3-6287-47fc-a4da-22d158a981d0\">\n",
              "    <div class=\"colab-df-container\">\n",
              "      <div>\n",
              "<style scoped>\n",
              "    .dataframe tbody tr th:only-of-type {\n",
              "        vertical-align: middle;\n",
              "    }\n",
              "\n",
              "    .dataframe tbody tr th {\n",
              "        vertical-align: top;\n",
              "    }\n",
              "\n",
              "    .dataframe thead th {\n",
              "        text-align: right;\n",
              "    }\n",
              "</style>\n",
              "<table border=\"1\" class=\"dataframe\">\n",
              "  <thead>\n",
              "    <tr style=\"text-align: right;\">\n",
              "      <th></th>\n",
              "      <th>uID</th>\n",
              "      <th>mID</th>\n",
              "      <th>rating</th>\n",
              "    </tr>\n",
              "  </thead>\n",
              "  <tbody>\n",
              "    <tr>\n",
              "      <th>0</th>\n",
              "      <td>744</td>\n",
              "      <td>1210</td>\n",
              "      <td>5</td>\n",
              "    </tr>\n",
              "    <tr>\n",
              "      <th>1</th>\n",
              "      <td>3040</td>\n",
              "      <td>1584</td>\n",
              "      <td>4</td>\n",
              "    </tr>\n",
              "    <tr>\n",
              "      <th>2</th>\n",
              "      <td>1451</td>\n",
              "      <td>1293</td>\n",
              "      <td>5</td>\n",
              "    </tr>\n",
              "    <tr>\n",
              "      <th>3</th>\n",
              "      <td>5455</td>\n",
              "      <td>3176</td>\n",
              "      <td>2</td>\n",
              "    </tr>\n",
              "    <tr>\n",
              "      <th>4</th>\n",
              "      <td>2507</td>\n",
              "      <td>3074</td>\n",
              "      <td>5</td>\n",
              "    </tr>\n",
              "  </tbody>\n",
              "</table>\n",
              "</div>\n",
              "      <button class=\"colab-df-convert\" onclick=\"convertToInteractive('df-af5b70b3-6287-47fc-a4da-22d158a981d0')\"\n",
              "              title=\"Convert this dataframe to an interactive table.\"\n",
              "              style=\"display:none;\">\n",
              "        \n",
              "  <svg xmlns=\"http://www.w3.org/2000/svg\" height=\"24px\"viewBox=\"0 0 24 24\"\n",
              "       width=\"24px\">\n",
              "    <path d=\"M0 0h24v24H0V0z\" fill=\"none\"/>\n",
              "    <path d=\"M18.56 5.44l.94 2.06.94-2.06 2.06-.94-2.06-.94-.94-2.06-.94 2.06-2.06.94zm-11 1L8.5 8.5l.94-2.06 2.06-.94-2.06-.94L8.5 2.5l-.94 2.06-2.06.94zm10 10l.94 2.06.94-2.06 2.06-.94-2.06-.94-.94-2.06-.94 2.06-2.06.94z\"/><path d=\"M17.41 7.96l-1.37-1.37c-.4-.4-.92-.59-1.43-.59-.52 0-1.04.2-1.43.59L10.3 9.45l-7.72 7.72c-.78.78-.78 2.05 0 2.83L4 21.41c.39.39.9.59 1.41.59.51 0 1.02-.2 1.41-.59l7.78-7.78 2.81-2.81c.8-.78.8-2.07 0-2.86zM5.41 20L4 18.59l7.72-7.72 1.47 1.35L5.41 20z\"/>\n",
              "  </svg>\n",
              "      </button>\n",
              "      \n",
              "  <style>\n",
              "    .colab-df-container {\n",
              "      display:flex;\n",
              "      flex-wrap:wrap;\n",
              "      gap: 12px;\n",
              "    }\n",
              "\n",
              "    .colab-df-convert {\n",
              "      background-color: #E8F0FE;\n",
              "      border: none;\n",
              "      border-radius: 50%;\n",
              "      cursor: pointer;\n",
              "      display: none;\n",
              "      fill: #1967D2;\n",
              "      height: 32px;\n",
              "      padding: 0 0 0 0;\n",
              "      width: 32px;\n",
              "    }\n",
              "\n",
              "    .colab-df-convert:hover {\n",
              "      background-color: #E2EBFA;\n",
              "      box-shadow: 0px 1px 2px rgba(60, 64, 67, 0.3), 0px 1px 3px 1px rgba(60, 64, 67, 0.15);\n",
              "      fill: #174EA6;\n",
              "    }\n",
              "\n",
              "    [theme=dark] .colab-df-convert {\n",
              "      background-color: #3B4455;\n",
              "      fill: #D2E3FC;\n",
              "    }\n",
              "\n",
              "    [theme=dark] .colab-df-convert:hover {\n",
              "      background-color: #434B5C;\n",
              "      box-shadow: 0px 1px 3px 1px rgba(0, 0, 0, 0.15);\n",
              "      filter: drop-shadow(0px 1px 2px rgba(0, 0, 0, 0.3));\n",
              "      fill: #FFFFFF;\n",
              "    }\n",
              "  </style>\n",
              "\n",
              "      <script>\n",
              "        const buttonEl =\n",
              "          document.querySelector('#df-af5b70b3-6287-47fc-a4da-22d158a981d0 button.colab-df-convert');\n",
              "        buttonEl.style.display =\n",
              "          google.colab.kernel.accessAllowed ? 'block' : 'none';\n",
              "\n",
              "        async function convertToInteractive(key) {\n",
              "          const element = document.querySelector('#df-af5b70b3-6287-47fc-a4da-22d158a981d0');\n",
              "          const dataTable =\n",
              "            await google.colab.kernel.invokeFunction('convertToInteractive',\n",
              "                                                     [key], {});\n",
              "          if (!dataTable) return;\n",
              "\n",
              "          const docLinkHtml = 'Like what you see? Visit the ' +\n",
              "            '<a target=\"_blank\" href=https://colab.research.google.com/notebooks/data_table.ipynb>data table notebook</a>'\n",
              "            + ' to learn more about interactive tables.';\n",
              "          element.innerHTML = '';\n",
              "          dataTable['output_type'] = 'display_data';\n",
              "          await google.colab.output.renderOutput(dataTable, element);\n",
              "          const docLink = document.createElement('div');\n",
              "          docLink.innerHTML = docLinkHtml;\n",
              "          element.appendChild(docLink);\n",
              "        }\n",
              "      </script>\n",
              "    </div>\n",
              "  </div>\n",
              "  "
            ]
          },
          "metadata": {},
          "execution_count": 79
        }
      ]
    },
    {
      "cell_type": "code",
      "source": [
        "data.movies.head()"
      ],
      "metadata": {
        "colab": {
          "base_uri": "https://localhost:8080/",
          "height": 235
        },
        "id": "yrlzTTUmMhkj",
        "outputId": "b57b5122-2a9b-43e3-f380-cae1ef07089a"
      },
      "execution_count": null,
      "outputs": [
        {
          "output_type": "execute_result",
          "data": {
            "text/plain": [
              "   mID                        title  year  Doc  Com  Hor  Adv  Wes  Dra  Ani  \\\n",
              "0    1                    Toy Story  1995    0    1    0    0    0    0    1   \n",
              "1    2                      Jumanji  1995    0    0    0    1    0    0    0   \n",
              "2    3             Grumpier Old Men  1995    0    1    0    0    0    0    0   \n",
              "3    4            Waiting to Exhale  1995    0    1    0    0    0    1    0   \n",
              "4    5  Father of the Bride Part II  1995    0    1    0    0    0    0    0   \n",
              "\n",
              "   ...  Chi  Cri  Thr  Sci  Mys  Rom  Fil  Fan  Act  Mus  \n",
              "0  ...    1    0    0    0    0    0    0    0    0    0  \n",
              "1  ...    1    0    0    0    0    0    0    1    0    0  \n",
              "2  ...    0    0    0    0    0    1    0    0    0    0  \n",
              "3  ...    0    0    0    0    0    0    0    0    0    0  \n",
              "4  ...    0    0    0    0    0    0    0    0    0    0  \n",
              "\n",
              "[5 rows x 21 columns]"
            ],
            "text/html": [
              "\n",
              "  <div id=\"df-661981d4-9210-4dae-b5e2-4656eaa2da4c\">\n",
              "    <div class=\"colab-df-container\">\n",
              "      <div>\n",
              "<style scoped>\n",
              "    .dataframe tbody tr th:only-of-type {\n",
              "        vertical-align: middle;\n",
              "    }\n",
              "\n",
              "    .dataframe tbody tr th {\n",
              "        vertical-align: top;\n",
              "    }\n",
              "\n",
              "    .dataframe thead th {\n",
              "        text-align: right;\n",
              "    }\n",
              "</style>\n",
              "<table border=\"1\" class=\"dataframe\">\n",
              "  <thead>\n",
              "    <tr style=\"text-align: right;\">\n",
              "      <th></th>\n",
              "      <th>mID</th>\n",
              "      <th>title</th>\n",
              "      <th>year</th>\n",
              "      <th>Doc</th>\n",
              "      <th>Com</th>\n",
              "      <th>Hor</th>\n",
              "      <th>Adv</th>\n",
              "      <th>Wes</th>\n",
              "      <th>Dra</th>\n",
              "      <th>Ani</th>\n",
              "      <th>...</th>\n",
              "      <th>Chi</th>\n",
              "      <th>Cri</th>\n",
              "      <th>Thr</th>\n",
              "      <th>Sci</th>\n",
              "      <th>Mys</th>\n",
              "      <th>Rom</th>\n",
              "      <th>Fil</th>\n",
              "      <th>Fan</th>\n",
              "      <th>Act</th>\n",
              "      <th>Mus</th>\n",
              "    </tr>\n",
              "  </thead>\n",
              "  <tbody>\n",
              "    <tr>\n",
              "      <th>0</th>\n",
              "      <td>1</td>\n",
              "      <td>Toy Story</td>\n",
              "      <td>1995</td>\n",
              "      <td>0</td>\n",
              "      <td>1</td>\n",
              "      <td>0</td>\n",
              "      <td>0</td>\n",
              "      <td>0</td>\n",
              "      <td>0</td>\n",
              "      <td>1</td>\n",
              "      <td>...</td>\n",
              "      <td>1</td>\n",
              "      <td>0</td>\n",
              "      <td>0</td>\n",
              "      <td>0</td>\n",
              "      <td>0</td>\n",
              "      <td>0</td>\n",
              "      <td>0</td>\n",
              "      <td>0</td>\n",
              "      <td>0</td>\n",
              "      <td>0</td>\n",
              "    </tr>\n",
              "    <tr>\n",
              "      <th>1</th>\n",
              "      <td>2</td>\n",
              "      <td>Jumanji</td>\n",
              "      <td>1995</td>\n",
              "      <td>0</td>\n",
              "      <td>0</td>\n",
              "      <td>0</td>\n",
              "      <td>1</td>\n",
              "      <td>0</td>\n",
              "      <td>0</td>\n",
              "      <td>0</td>\n",
              "      <td>...</td>\n",
              "      <td>1</td>\n",
              "      <td>0</td>\n",
              "      <td>0</td>\n",
              "      <td>0</td>\n",
              "      <td>0</td>\n",
              "      <td>0</td>\n",
              "      <td>0</td>\n",
              "      <td>1</td>\n",
              "      <td>0</td>\n",
              "      <td>0</td>\n",
              "    </tr>\n",
              "    <tr>\n",
              "      <th>2</th>\n",
              "      <td>3</td>\n",
              "      <td>Grumpier Old Men</td>\n",
              "      <td>1995</td>\n",
              "      <td>0</td>\n",
              "      <td>1</td>\n",
              "      <td>0</td>\n",
              "      <td>0</td>\n",
              "      <td>0</td>\n",
              "      <td>0</td>\n",
              "      <td>0</td>\n",
              "      <td>...</td>\n",
              "      <td>0</td>\n",
              "      <td>0</td>\n",
              "      <td>0</td>\n",
              "      <td>0</td>\n",
              "      <td>0</td>\n",
              "      <td>1</td>\n",
              "      <td>0</td>\n",
              "      <td>0</td>\n",
              "      <td>0</td>\n",
              "      <td>0</td>\n",
              "    </tr>\n",
              "    <tr>\n",
              "      <th>3</th>\n",
              "      <td>4</td>\n",
              "      <td>Waiting to Exhale</td>\n",
              "      <td>1995</td>\n",
              "      <td>0</td>\n",
              "      <td>1</td>\n",
              "      <td>0</td>\n",
              "      <td>0</td>\n",
              "      <td>0</td>\n",
              "      <td>1</td>\n",
              "      <td>0</td>\n",
              "      <td>...</td>\n",
              "      <td>0</td>\n",
              "      <td>0</td>\n",
              "      <td>0</td>\n",
              "      <td>0</td>\n",
              "      <td>0</td>\n",
              "      <td>0</td>\n",
              "      <td>0</td>\n",
              "      <td>0</td>\n",
              "      <td>0</td>\n",
              "      <td>0</td>\n",
              "    </tr>\n",
              "    <tr>\n",
              "      <th>4</th>\n",
              "      <td>5</td>\n",
              "      <td>Father of the Bride Part II</td>\n",
              "      <td>1995</td>\n",
              "      <td>0</td>\n",
              "      <td>1</td>\n",
              "      <td>0</td>\n",
              "      <td>0</td>\n",
              "      <td>0</td>\n",
              "      <td>0</td>\n",
              "      <td>0</td>\n",
              "      <td>...</td>\n",
              "      <td>0</td>\n",
              "      <td>0</td>\n",
              "      <td>0</td>\n",
              "      <td>0</td>\n",
              "      <td>0</td>\n",
              "      <td>0</td>\n",
              "      <td>0</td>\n",
              "      <td>0</td>\n",
              "      <td>0</td>\n",
              "      <td>0</td>\n",
              "    </tr>\n",
              "  </tbody>\n",
              "</table>\n",
              "<p>5 rows × 21 columns</p>\n",
              "</div>\n",
              "      <button class=\"colab-df-convert\" onclick=\"convertToInteractive('df-661981d4-9210-4dae-b5e2-4656eaa2da4c')\"\n",
              "              title=\"Convert this dataframe to an interactive table.\"\n",
              "              style=\"display:none;\">\n",
              "        \n",
              "  <svg xmlns=\"http://www.w3.org/2000/svg\" height=\"24px\"viewBox=\"0 0 24 24\"\n",
              "       width=\"24px\">\n",
              "    <path d=\"M0 0h24v24H0V0z\" fill=\"none\"/>\n",
              "    <path d=\"M18.56 5.44l.94 2.06.94-2.06 2.06-.94-2.06-.94-.94-2.06-.94 2.06-2.06.94zm-11 1L8.5 8.5l.94-2.06 2.06-.94-2.06-.94L8.5 2.5l-.94 2.06-2.06.94zm10 10l.94 2.06.94-2.06 2.06-.94-2.06-.94-.94-2.06-.94 2.06-2.06.94z\"/><path d=\"M17.41 7.96l-1.37-1.37c-.4-.4-.92-.59-1.43-.59-.52 0-1.04.2-1.43.59L10.3 9.45l-7.72 7.72c-.78.78-.78 2.05 0 2.83L4 21.41c.39.39.9.59 1.41.59.51 0 1.02-.2 1.41-.59l7.78-7.78 2.81-2.81c.8-.78.8-2.07 0-2.86zM5.41 20L4 18.59l7.72-7.72 1.47 1.35L5.41 20z\"/>\n",
              "  </svg>\n",
              "      </button>\n",
              "      \n",
              "  <style>\n",
              "    .colab-df-container {\n",
              "      display:flex;\n",
              "      flex-wrap:wrap;\n",
              "      gap: 12px;\n",
              "    }\n",
              "\n",
              "    .colab-df-convert {\n",
              "      background-color: #E8F0FE;\n",
              "      border: none;\n",
              "      border-radius: 50%;\n",
              "      cursor: pointer;\n",
              "      display: none;\n",
              "      fill: #1967D2;\n",
              "      height: 32px;\n",
              "      padding: 0 0 0 0;\n",
              "      width: 32px;\n",
              "    }\n",
              "\n",
              "    .colab-df-convert:hover {\n",
              "      background-color: #E2EBFA;\n",
              "      box-shadow: 0px 1px 2px rgba(60, 64, 67, 0.3), 0px 1px 3px 1px rgba(60, 64, 67, 0.15);\n",
              "      fill: #174EA6;\n",
              "    }\n",
              "\n",
              "    [theme=dark] .colab-df-convert {\n",
              "      background-color: #3B4455;\n",
              "      fill: #D2E3FC;\n",
              "    }\n",
              "\n",
              "    [theme=dark] .colab-df-convert:hover {\n",
              "      background-color: #434B5C;\n",
              "      box-shadow: 0px 1px 3px 1px rgba(0, 0, 0, 0.15);\n",
              "      filter: drop-shadow(0px 1px 2px rgba(0, 0, 0, 0.3));\n",
              "      fill: #FFFFFF;\n",
              "    }\n",
              "  </style>\n",
              "\n",
              "      <script>\n",
              "        const buttonEl =\n",
              "          document.querySelector('#df-661981d4-9210-4dae-b5e2-4656eaa2da4c button.colab-df-convert');\n",
              "        buttonEl.style.display =\n",
              "          google.colab.kernel.accessAllowed ? 'block' : 'none';\n",
              "\n",
              "        async function convertToInteractive(key) {\n",
              "          const element = document.querySelector('#df-661981d4-9210-4dae-b5e2-4656eaa2da4c');\n",
              "          const dataTable =\n",
              "            await google.colab.kernel.invokeFunction('convertToInteractive',\n",
              "                                                     [key], {});\n",
              "          if (!dataTable) return;\n",
              "\n",
              "          const docLinkHtml = 'Like what you see? Visit the ' +\n",
              "            '<a target=\"_blank\" href=https://colab.research.google.com/notebooks/data_table.ipynb>data table notebook</a>'\n",
              "            + ' to learn more about interactive tables.';\n",
              "          element.innerHTML = '';\n",
              "          dataTable['output_type'] = 'display_data';\n",
              "          await google.colab.output.renderOutput(dataTable, element);\n",
              "          const docLink = document.createElement('div');\n",
              "          docLink.innerHTML = docLinkHtml;\n",
              "          element.appendChild(docLink);\n",
              "        }\n",
              "      </script>\n",
              "    </div>\n",
              "  </div>\n",
              "  "
            ]
          },
          "metadata": {},
          "execution_count": 91
        }
      ]
    },
    {
      "cell_type": "code",
      "source": [
        "from scipy.sparse import coo_matrix, csr_matrix"
      ],
      "metadata": {
        "id": "3KxxMWbWQyVd"
      },
      "execution_count": null,
      "outputs": []
    },
    {
      "cell_type": "code",
      "source": [
        "#Calculate Movie-Feature Matrix\n",
        "genres_data = data.movies.drop((['mID', 'year', 'title']), 1, inplace = False)\n",
        "genres_data = np.reshape(genres_data, (3883, 18))\n",
        "\n",
        "#Calculate Rating-Matrix (in case for later use)\n",
        "allusers = list(data.users['uID'])\n",
        "allmovies = list(data.movies['mID'])\n",
        "genres = list(data.movies.columns.drop(['mID', 'title', 'year']))\n",
        "mid2idx = dict(zip(data.movies.mID,list(range(len(data.movies)))))\n",
        "uid2idx = dict(zip(data.users.uID,list(range(len(data.users)))))\n",
        "\n",
        "ind_movie = [mid2idx[x] for x in data.train.mID]\n",
        "ind_user = [uid2idx[x] for x in data.train.uID]\n",
        "rating_train = list(train.rating)\n",
        "rating_matrix = np.array(coo_matrix((rating_train, (ind_user, ind_movie)), shape = (len(allusers), len(allmovies))).toarray())"
      ],
      "metadata": {
        "colab": {
          "base_uri": "https://localhost:8080/"
        },
        "id": "gHHw9__mNFbu",
        "outputId": "beefc6d0-977c-433f-bfb0-82f434fd4bc8"
      },
      "execution_count": null,
      "outputs": [
        {
          "output_type": "stream",
          "name": "stderr",
          "text": [
            "/usr/local/lib/python3.7/dist-packages/ipykernel_launcher.py:2: FutureWarning: In a future version of pandas all arguments of DataFrame.drop except for the argument 'labels' will be keyword-only\n",
            "  \n"
          ]
        }
      ]
    },
    {
      "cell_type": "code",
      "source": [
        "n_users = len(data.train.mID)\n",
        "n_items = len(allmovies)\n",
        "\n",
        "df = pd.DataFrame(rating_matrix, columns = allmovies)"
      ],
      "metadata": {
        "id": "1oKjfxFkPN23"
      },
      "execution_count": null,
      "outputs": []
    },
    {
      "cell_type": "code",
      "source": [
        "#Observe overall distribution of ratings by looking at histogram.\n",
        "train.rating.hist(grid = True)"
      ],
      "metadata": {
        "colab": {
          "base_uri": "https://localhost:8080/",
          "height": 283
        },
        "id": "6b6b6tpVOmGb",
        "outputId": "0a94d3bf-1989-46b4-97d6-cbb9426c4b7a"
      },
      "execution_count": null,
      "outputs": [
        {
          "output_type": "execute_result",
          "data": {
            "text/plain": [
              "<matplotlib.axes._subplots.AxesSubplot at 0x7f3868996650>"
            ]
          },
          "metadata": {},
          "execution_count": 121
        },
        {
          "output_type": "display_data",
          "data": {
            "text/plain": [
              "<Figure size 432x288 with 1 Axes>"
            ],
            "image/png": "[encoded data removed]"
          },
          "metadata": {
            "needs_background": "light"
          }
        }
      ]
    },
    {
      "cell_type": "code",
      "source": [
        "ratings_df = data.train\n",
        "n_users = len(ratings_df['uID'].unique())\n",
        "n_movies = len(ratings_df['mID'].unique())\n",
        "R_shape = (n_users, n_movies)\n",
        "\n",
        "X = ratings_df[['uID', 'mID']].values\n",
        "y = ratings_df['rating'].values\n",
        "print(X.shape)\n",
        "print((y.shape))"
      ],
      "metadata": {
        "colab": {
          "base_uri": "https://localhost:8080/"
        },
        "id": "TJ_xoRtaRq5K",
        "outputId": "bcc876ca-8308-4a11-8449-dd3e8e2f2806"
      },
      "execution_count": null,
      "outputs": [
        {
          "output_type": "stream",
          "name": "stdout",
          "text": [
            "(700146, 2)\n",
            "(700146,)\n"
          ]
        }
      ]
    },
    {
      "cell_type": "code",
      "source": [
        "from scipy import sparse\n",
        "\n",
        "def ToDense(X, y, shape):\n",
        "    row = X[:, 0]\n",
        "    col = X[:, 1]\n",
        "    data = y\n",
        "    matrix_sparse = sparse.csr_matrix((data, (row, col)), shape = (shape[0]+1, shape[0]+1))  # sparse matrix in compressed format (CSR)\n",
        "    R = matrix_sparse.todense()   \n",
        "    R = R[1:,1:]                  \n",
        "    R = np.asarray(R)        \n",
        "    return R\n",
        "\n",
        "R = ToDense(X, y, R_shape)\n",
        "print(R)\n",
        "print(R.shape)"
      ],
      "metadata": {
        "colab": {
          "base_uri": "https://localhost:8080/"
        },
        "id": "BcVdZ4nSS6ON",
        "outputId": "14f2cb29-39be-47e6-b363-94897d78a8ac"
      },
      "execution_count": null,
      "outputs": [
        {
          "output_type": "stream",
          "name": "stdout",
          "text": [
            "[[5 0 0 ... 0 0 0]\n",
            " [0 0 0 ... 0 0 0]\n",
            " [0 0 0 ... 0 0 0]\n",
            " ...\n",
            " [0 0 0 ... 0 0 0]\n",
            " [0 0 0 ... 0 0 0]\n",
            " [3 0 0 ... 0 0 0]]\n",
            "(6040, 6040)\n"
          ]
        }
      ]
    },
    {
      "cell_type": "code",
      "source": [
        "print(len(R.nonzero()[0]) / float(R.shape[0] * R.shape[1]))"
      ],
      "metadata": {
        "colab": {
          "base_uri": "https://localhost:8080/"
        },
        "id": "4I-AkQrWVkj0",
        "outputId": "6819633a-9bf7-4941-b504-ae2054f8684b"
      },
      "execution_count": null,
      "outputs": [
        {
          "output_type": "stream",
          "name": "stdout",
          "text": [
            "0.019191756940485066\n"
          ]
        }
      ]
    },
    {
      "cell_type": "markdown",
      "source": [
        "Sparsity is about a proportion of 0.0192, or 1.92%."
      ],
      "metadata": {
        "id": "YEoMI4KrTSxz"
      }
    },
    {
      "cell_type": "markdown",
      "source": [
        "Now we'll use NMF from scikit-learn to generate the models."
      ],
      "metadata": {
        "id": "2MOCGwhfWapF"
      }
    },
    {
      "cell_type": "code",
      "source": [
        "mod = NMF(n_components = 18)\n",
        "mod.fit(R)\n",
        "theta = mod.transform(R)\n",
        "latent_f = mod.components_.T"
      ],
      "metadata": {
        "colab": {
          "base_uri": "https://localhost:8080/"
        },
        "id": "OGMjltxQcdUh",
        "outputId": "2c83e273-b4fa-4ea8-f510-5398b4cef94b"
      },
      "execution_count": null,
      "outputs": [
        {
          "output_type": "stream",
          "name": "stderr",
          "text": [
            "/usr/local/lib/python3.7/dist-packages/sklearn/decomposition/_nmf.py:294: FutureWarning: The 'init' value, when 'init=None' and n_components is less than n_samples and n_features, will be changed from 'nndsvd' to 'nndsvda' in 1.1 (renaming of 0.26).\n",
            "  FutureWarning,\n",
            "/usr/local/lib/python3.7/dist-packages/sklearn/decomposition/_nmf.py:1641: ConvergenceWarning: Maximum number of iterations 200 reached. Increase it to improve convergence.\n",
            "  ConvergenceWarning,\n"
          ]
        }
      ]
    },
    {
      "cell_type": "code",
      "source": [
        "Rhat = latent_f.dot(theta.T)\n",
        "Rhat = Rhat.T"
      ],
      "metadata": {
        "id": "s2u1gsrncrVY"
      },
      "execution_count": null,
      "outputs": []
    },
    {
      "cell_type": "code",
      "source": [
        "X_train, X_test, y_train, y_test = train_test_split(X, y, test_size = 0.33)"
      ],
      "metadata": {
        "id": "g8NxGW6wicN_"
      },
      "execution_count": null,
      "outputs": []
    },
    {
      "cell_type": "code",
      "source": [
        "Rtrain = ToDense(X_train, y_train, R_shape)\n",
        "Rtest = ToDense(X_test, y_test, R_shape)"
      ],
      "metadata": {
        "id": "3IjtIF67iutt"
      },
      "execution_count": null,
      "outputs": []
    },
    {
      "cell_type": "code",
      "source": [
        "print(Rtrain, Rtrain.shape)\n",
        "print(Rtest, Rtest.shape)"
      ],
      "metadata": {
        "colab": {
          "base_uri": "https://localhost:8080/"
        },
        "id": "RBLSuueBjRzF",
        "outputId": "26e82bd5-8806-4cc4-ea83-d63a6b8328a9"
      },
      "execution_count": null,
      "outputs": [
        {
          "output_type": "stream",
          "name": "stdout",
          "text": [
            "[[5 0 0 ... 0 0 0]\n",
            " [0 0 0 ... 0 0 0]\n",
            " [0 0 0 ... 0 0 0]\n",
            " ...\n",
            " [0 0 0 ... 0 0 0]\n",
            " [0 0 0 ... 0 0 0]\n",
            " [0 0 0 ... 0 0 0]] (6040, 6040)\n",
            "[[0 0 0 ... 0 0 0]\n",
            " [0 0 0 ... 0 0 0]\n",
            " [0 0 0 ... 0 0 0]\n",
            " ...\n",
            " [0 0 0 ... 0 0 0]\n",
            " [0 0 0 ... 0 0 0]\n",
            " [3 0 0 ... 0 0 0]] (6040, 6040)\n"
          ]
        }
      ]
    },
    {
      "cell_type": "markdown",
      "source": [
        "Moving on to a familiar process where we define parameters to generate NMF model."
      ],
      "metadata": {
        "id": "OalJi-6gjVf-"
      }
    },
    {
      "cell_type": "code",
      "source": [
        "est = NMF(n_components = 18, init = 'nndsvda', solver = 'mu', beta_loss = 'kullback-leibler', l1_ratio = 0.5, random_state = 1234)"
      ],
      "metadata": {
        "id": "jc-os8jMjhdT"
      },
      "execution_count": null,
      "outputs": []
    },
    {
      "cell_type": "code",
      "source": [
        "from sklearn.metrics import mean_squared_error\n",
        "\n",
        "def RMSE(p, t):\n",
        "   p = p[t.nonzero()].flatten()\n",
        "   t = t[t.nonzero()].flatten()\n",
        "   return np.sqrt(mean_squared_error(p, t))"
      ],
      "metadata": {
        "id": "_b_9OtZvkYvs"
      },
      "execution_count": null,
      "outputs": []
    },
    {
      "cell_type": "code",
      "source": [],
      "metadata": {
        "id": "z9-m-2_uk5--"
      },
      "execution_count": null,
      "outputs": []
    }
  ]
}